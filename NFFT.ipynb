{
 "cells": [
  {
   "cell_type": "markdown",
   "metadata": {},
   "source": [
    "# Implementing the NFFT"
   ]
  },
  {
   "cell_type": "code",
   "execution_count": null,
   "metadata": {
    "collapsed": true
   },
   "outputs": [],
   "source": [
    "from __future__ import division\n",
    "\n",
    "%matplotlib inline\n",
    "import matplotlib.pyplot as plt\n",
    "import numpy as np"
   ]
  },
  {
   "cell_type": "markdown",
   "metadata": {},
   "source": [
    "## 1. Do a straightforward implementation"
   ]
  },
  {
   "cell_type": "code",
   "execution_count": null,
   "metadata": {
    "collapsed": true
   },
   "outputs": [],
   "source": [
    "def adjoint_direct(x, f, N):\n",
    "    k = -(N // 2) + np.arange(N)\n",
    "    return np.dot(f, np.exp(2j * np.pi * k * x[:, None]))"
   ]
  },
  {
   "cell_type": "code",
   "execution_count": null,
   "metadata": {
    "collapsed": false
   },
   "outputs": [],
   "source": [
    "x = -0.5 + np.random.rand(1000)\n",
    "f = np.sin(5 * 2 * np.pi * x) + np.cos(10 * 2 * np.pi * x)\n",
    "plt.plot(x, f.real, '.k');"
   ]
  },
  {
   "cell_type": "code",
   "execution_count": null,
   "metadata": {
    "collapsed": false
   },
   "outputs": [],
   "source": [
    "N = 50\n",
    "k = -(N // 2) + np.arange(N)\n",
    "f_k = adjoint_direct(x, f, N)\n",
    "\n",
    "plt.plot(k, f_k.real, k, f_k.imag)"
   ]
  },
  {
   "cell_type": "markdown",
   "metadata": {},
   "source": [
    "## Easy version of the more complex implementation"
   ]
  },
  {
   "cell_type": "code",
   "execution_count": null,
   "metadata": {
    "collapsed": false
   },
   "outputs": [],
   "source": [
    "# equations C.1 from https://www-user.tu-chemnitz.de/~potts/paper/nfft3.pdf\n",
    "\n",
    "def phi(x, n, m, sigma):\n",
    "    b = (2 * sigma * m) / ((2 * sigma - 1) * np.pi)\n",
    "    return np.exp(-(n * x) ** 2 / b) / np.sqrt(np.pi * b)\n",
    "\n",
    "\n",
    "def phi_hat(k, n, m, sigma):\n",
    "    b = (2 * sigma * m) / ((2 * sigma - 1) * np.pi)\n",
    "    return np.exp(-b * (np.pi * k / n) ** 2) / n\n",
    "\n",
    "\n",
    "def C(sigma, m):\n",
    "    return 4 * np.exp(-m * np.pi * (1 - 1. / (2 * sigma - 1)))\n",
    "        \n",
    "    \n",
    "def m_from_C(C, sigma):\n",
    "    return int(np.ceil(-np.log(0.25 * C) / (np.pi * (1 - 1. / (2 * sigma - 1)))))\n",
    "\n",
    "\n",
    "# Alg 3 from https://www-user.tu-chemnitz.de/~potts/paper/nfft3.pdf\n",
    "\n",
    "def adjoint(x, f, N, m=None, sigma=5, tol=1E-8):\n",
    "    n = N * sigma\n",
    "    \n",
    "    ell_grid = -(n // 2) + np.arange(n)\n",
    "    x_grid = ell_grid / n\n",
    "    \n",
    "    if m is None:\n",
    "        # TODO: determine this based on tol\n",
    "        m = n // 2\n",
    "    \n",
    "    # TODO: this is the part that should be truncated using m\n",
    "    shifted = lambda x: -0.5 + (x + 0.5) % 1\n",
    "    g = np.dot(f, phi(shifted(x_grid - x[:, None]), n, m, sigma))\n",
    "    \n",
    "    # TODO: this sum should be computed via an FFT\n",
    "    k = -(N // 2) + np.arange(N)\n",
    "    ghat = np.dot(g, np.exp(2j * np.pi * k * x_grid[:, None]))\n",
    "    \n",
    "    return ghat / phi_hat(k, n, m, sigma) / (sigma * N)"
   ]
  },
  {
   "cell_type": "code",
   "execution_count": null,
   "metadata": {
    "collapsed": false
   },
   "outputs": [],
   "source": [
    "100 * C(5, 10.39)"
   ]
  },
  {
   "cell_type": "code",
   "execution_count": null,
   "metadata": {
    "collapsed": false
   },
   "outputs": [],
   "source": [
    "m_from_C(1E-10 / 100, 5)"
   ]
  },
  {
   "cell_type": "code",
   "execution_count": null,
   "metadata": {
    "collapsed": false
   },
   "outputs": [],
   "source": [
    "np.allclose(adjoint(x, f, N),\n",
    "            adjoint_direct(x, f, N))"
   ]
  },
  {
   "cell_type": "markdown",
   "metadata": {},
   "source": [
    "## Speeding up the FFT"
   ]
  },
  {
   "cell_type": "code",
   "execution_count": null,
   "metadata": {
    "collapsed": false
   },
   "outputs": [],
   "source": [
    "N = 100\n",
    "xgrid = -0.5 + np.arange(N) / N\n",
    "g = np.random.randn(N) + 1j * np.random.randn(N)\n",
    "k = -(N // 2) + np.arange(N)\n",
    "\n",
    "S1 = np.dot(g, np.exp(2j * np.pi * k * xgrid[:, None]))\n",
    "\n",
    "S2 = N * np.fft.fftshift(np.fft.ifft(g)) * np.exp(2j * np.pi * 0.5 * k)\n",
    "\n",
    "plt.plot(k, abs(S1), k, abs(S2))\n",
    "\n",
    "np.allclose(S1, S2)"
   ]
  },
  {
   "cell_type": "markdown",
   "metadata": {},
   "source": [
    "## Using the FFT in the Function"
   ]
  },
  {
   "cell_type": "code",
   "execution_count": null,
   "metadata": {
    "collapsed": true
   },
   "outputs": [],
   "source": [
    "def adjoint(x, f, N, m=None, sigma=5, tol=1E-8, use_fft=True):\n",
    "    n = N * sigma\n",
    "    \n",
    "    ell_grid = -(n // 2) + np.arange(n)\n",
    "    x_grid = ell_grid / n\n",
    "    \n",
    "    if m is None:\n",
    "        # TODO: determine this based on tol\n",
    "        m = n // 2\n",
    "    \n",
    "    # TODO: this is the part that should be truncated using m\n",
    "    shifted = lambda x: -0.5 + (x + 0.5) % 1\n",
    "    g = np.dot(f, phi(shifted(x_grid - x[:, None]), n, m, sigma))\n",
    "    \n",
    "    k = -(N // 2) + np.arange(N)\n",
    "    if use_fft:\n",
    "        ghat = n * np.fft.fftshift(np.fft.ifft(g))\n",
    "        ghat = ghat[n // 2 - N // 2: n // 2 + N // 2]\n",
    "        ghat *= np.exp(2j * np.pi * 0.5 * k)\n",
    "    else:\n",
    "        ghat = np.dot(g, np.exp(2j * np.pi * k * x_grid[:, None]))\n",
    "    \n",
    "    return ghat / phi_hat(k, n, m, sigma) / (sigma * N)"
   ]
  },
  {
   "cell_type": "code",
   "execution_count": null,
   "metadata": {
    "collapsed": false
   },
   "outputs": [],
   "source": [
    "x = -0.5 + np.random.rand(1000)\n",
    "f = np.sin(5 * 2 * np.pi * x) + np.cos(10 * 2 * np.pi * x)\n",
    "\n",
    "np.allclose(adjoint(x, f, N),\n",
    "            adjoint_direct(x, f, N))"
   ]
  },
  {
   "cell_type": "markdown",
   "metadata": {},
   "source": [
    "## Truncating the sum"
   ]
  },
  {
   "cell_type": "code",
   "execution_count": null,
   "metadata": {
    "collapsed": false
   },
   "outputs": [],
   "source": [
    "def g_matrix(x, N, sigma, m=None):\n",
    "    n = N * sigma\n",
    "    if m is None:\n",
    "        m = n // 2\n",
    "    assert m <= n // 2\n",
    "    \n",
    "    ell_grid = -(n // 2) + np.arange(n)\n",
    "    x_grid = ell_grid / n\n",
    "    \n",
    "    shifted = lambda x: -0.5 + (x + 0.5) % 1\n",
    "    return phi(shifted(x_grid - x[:, None]), n, m, sigma)\n",
    "\n",
    "x = -0.5 + np.random.rand(50)\n",
    "\n",
    "plt.imshow(g_matrix(x, 100, 1), aspect='auto')"
   ]
  },
  {
   "cell_type": "markdown",
   "metadata": {},
   "source": [
    "We want to build this as a sparse matrix, with each row of width *2m*:"
   ]
  },
  {
   "cell_type": "code",
   "execution_count": null,
   "metadata": {
    "collapsed": false
   },
   "outputs": [],
   "source": [
    "from scipy.sparse import coo_matrix, csr_matrix\n",
    "\n",
    "def g_matrix_sparse(x, N, sigma, m=None):\n",
    "    n = N * sigma\n",
    "    if m is None:\n",
    "        m = n // 2\n",
    "    assert m <= n // 2\n",
    "    col_ind = np.floor(n * x[:, np.newaxis]).astype(int) + np.arange(-m, m)\n",
    "    shifted = lambda x: -0.5 + (x + 0.5) % 1\n",
    "    val = phi(shifted(x[:, None] - col_ind / n), n, m, sigma)\n",
    "    col_ind += n // 2\n",
    "    col_ind %= n\n",
    "    \n",
    "    indptr = np.arange(len(x) + 1) * col_ind.shape[1]\n",
    "    return csr_matrix((val.ravel(), col_ind.ravel(), indptr), shape=(len(x), n))\n",
    "    \n",
    "    # row_ind = np.broadcast_to(np.arange(len(x))[:, None], col_ind.shape)\n",
    "    # return coo_matrix((val.ravel(), (row_ind.ravel(), col_ind.ravel())), shape=(len(x), n))\n",
    "\n",
    "m = 20\n",
    "\n",
    "mat1 = g_matrix(x, 100, 1, m)\n",
    "mat2 = g_matrix_sparse(x, 100, 1, m).toarray()\n",
    "\n",
    "print(abs(mat1 - mat2).max())\n",
    "\n",
    "np.allclose(mat1, mat2)"
   ]
  },
  {
   "cell_type": "code",
   "execution_count": null,
   "metadata": {
    "collapsed": true
   },
   "outputs": [],
   "source": [
    "def adjoint(x, f, N, sigma=5, m=None, tol=1E-8, use_fft=True, use_sparse=True):\n",
    "    sigma = int(sigma)\n",
    "    assert sigma >= 1\n",
    "    \n",
    "    N = int(N)\n",
    "    n = N * sigma\n",
    "    \n",
    "    if m is None:\n",
    "        m = m_from_C(tol / N, sigma)\n",
    "    assert m <= n // 2\n",
    "    print(m)\n",
    "    \n",
    "    # Compute the (truncated) sum\n",
    "    shifted = lambda x: -0.5 + (x + 0.5) % 1\n",
    "    if use_sparse:\n",
    "        col_ind = np.floor(n * x[:, np.newaxis]).astype(int) + np.arange(-m, m)\n",
    "        val = phi(shifted(x[:, None] - col_ind / n), n, m, sigma)\n",
    "        col_ind += n // 2\n",
    "        col_ind %= n\n",
    "\n",
    "        indptr = np.arange(len(x) + 1) * col_ind.shape[1]\n",
    "        mat = csr_matrix((val.ravel(), col_ind.ravel(), indptr), shape=(len(x), n))\n",
    "        g = mat.T.dot(f)\n",
    "    else:\n",
    "        ell_grid = -(n // 2) + np.arange(n)\n",
    "        x_grid = ell_grid / n\n",
    "        g = np.dot(f, phi(shifted(x_grid - x[:, None]), n, m, sigma))\n",
    "    \n",
    "    k = -(N // 2) + np.arange(N)\n",
    "    if use_fft:\n",
    "        ghat = n * np.fft.fftshift(np.fft.ifft(g))\n",
    "        ghat = ghat[n // 2 - N // 2: n // 2 + N // 2]\n",
    "        ghat *= np.exp(2j * np.pi * 0.5 * k)\n",
    "    else:\n",
    "        ghat = np.dot(g, np.exp(2j * np.pi * k * x_grid[:, None]))\n",
    "    \n",
    "    return ghat / phi_hat(k, n, m, sigma) / (sigma * N)"
   ]
  },
  {
   "cell_type": "code",
   "execution_count": null,
   "metadata": {
    "collapsed": false
   },
   "outputs": [],
   "source": [
    "x = -0.5 + np.random.rand(1000)\n",
    "f = np.sin(5 * 2 * np.pi * x) + np.cos(10 * 2 * np.pi * x)\n",
    "N = 100\n",
    "\n",
    "A1 = adjoint(x, f, N, tol=1E-8)\n",
    "A2 = adjoint_direct(x, f, N)\n",
    "\n",
    "print(np.max(abs(A2 - A1)))\n",
    "np.allclose(A2, A1)"
   ]
  },
  {
   "cell_type": "code",
   "execution_count": null,
   "metadata": {
    "collapsed": true
   },
   "outputs": [],
   "source": []
  }
 ],
 "metadata": {
  "kernelspec": {
   "display_name": "Python 3.6",
   "language": "python",
   "name": "python3.6"
  },
  "language_info": {
   "codemirror_mode": {
    "name": "ipython",
    "version": 3
   },
   "file_extension": ".py",
   "mimetype": "text/x-python",
   "name": "python",
   "nbconvert_exporter": "python",
   "pygments_lexer": "ipython3",
   "version": "3.6.1"
  }
 },
 "nbformat": 4,
 "nbformat_minor": 2
}
